{
 "cells": [
  {
   "cell_type": "code",
   "execution_count": 1,
   "metadata": {},
   "outputs": [],
   "source": [
    "import cmdstanpy\n",
    "import numpy as np\n",
    "import pandas as pd\n",
    "import matplotlib.pyplot as plt\n",
    "from tqdm.notebook import tqdm\n",
    "\n",
    "from scipy.stats import norm, gamma, beta\n",
    "from scipy.integrate import odeint\n",
    "\n",
    "from tqdm.notebook import tqdm\n",
    "from tqdm import tqdm_notebook\n",
    "\n",
    "\n",
    "%matplotlib inline\n",
    "\n",
    "%load_ext stanmagic"
   ]
  },
  {
   "cell_type": "code",
   "execution_count": 3,
   "metadata": {},
   "outputs": [
    {
     "name": "stdout",
     "output_type": "stream",
     "text": [
      "Using pystan.stanc compiler..\n",
      "Ensure stan command line (stanc) is installed and in your                    PATH or pystan is installed or specify compiler path using --stanc                    (e.g. %% stan -f model.stan --stanc ./bin/stanc\n"
     ]
    }
   ],
   "source": [
    "%%stan -f model_dev.stan\n",
    "\n",
    "data{\n",
    "  int N; //Total number of observations\n",
    "  int subjectids[N]; //Subject idendification number as an integer.  Mine go from 1 - 36\n",
    "  int n_subjects; //How many unique subjects do I have?\n",
    "  vector[N] times; //Times at which subjects were observed?  Length N\n",
    "  real yobs[N]; //Observed concentraitons\n",
    "  vector[N] D;\n",
    "}\n",
    "parameters{\n",
    "  //Mu is on the log scale\n",
    "  //Because x ~ lognormal -> log(x) ~ normal\n",
    "  //I model on the log scale and then take exp to give me a lognormal rv\n",
    "  real  mu_cl;\n",
    "  real<lower=0> s_cl;\n",
    "  vector[n_subjects] z_cl;\n",
    "  \n",
    "  real mu_tmax;\n",
    "  real<lower=0> s_t;\n",
    "  vector[n_subjects] z_t;\n",
    "  \n",
    "  vector<lower=0, upper=1>[n_subjects] alpha ;\n",
    "  \n",
    "  real<lower=0, upper=1> phi;\n",
    "  real<lower=0, upper=1> kappa;\n",
    "  vector<lower=0, upper=1>[n_subjects] delays;\n",
    "  \n",
    "  real<lower=0> sigma;\n",
    "    \n",
    "  real<lower=0, upper=1> a;\n",
    "  real<lower=0> b;\n",
    "}\n",
    "transformed parameters{\n",
    "  vector[n_subjects] Cl = exp(mu_cl + z_cl*s_cl);\n",
    "  vector[n_subjects] t = exp(mu_tmax + z_t*s_t);\n",
    "  vector[n_subjects] ka = log(alpha)./(t .* (alpha-1));\n",
    "  vector[n_subjects] ke = alpha .* ka;\n",
    "  //Since first non-zero observation is t = 0.5, we know delay is no larger than 0.5\n",
    "  //since delay is beta, if we multiply by 0.5 then the largest the delay can be is 0.5\n",
    "  vector[N] delayed_times = times - 0.5*delays[subjectids];\n",
    "  \n",
    "  //Vectorized concentration function\n",
    "  vector[N] C = (0.5*D ./ Cl[subjectids]) .* (ke[subjectids] .* ka[subjectids]) ./ (ke[subjectids] - ka[subjectids]) .* (exp(-ka[subjectids] .* delayed_times) -exp(-ke[subjectids] .* delayed_times));\n",
    "}\n",
    "model{\n",
    "  mu_tmax ~ normal(log(3.3), 0.25);\n",
    "  s_t ~ gamma(10, 100);\n",
    "  z_t ~ normal(0,1);\n",
    "  \n",
    "  mu_cl ~ normal(log(3.3),0.15);\n",
    "  s_cl ~ gamma(15,100);\n",
    "  z_cl ~ normal(0,1);\n",
    "\n",
    "  a~beta(1,1);\n",
    "  b~student_t(3,0,2.5);\n",
    "  alpha ~ beta_proportion(a,b);\n",
    "  phi ~ beta(20,20);\n",
    "  kappa ~ beta(20,20);\n",
    "  delays ~ beta(phi/kappa, (1-phi)/kappa);\n",
    "  sigma ~ lognormal(log(0.1), 0.2);\n",
    "  yobs ~ lognormal(log(C), sigma);\n",
    "}\n",
    "generated quantities{\n",
    "    real y0;\n",
    "    real pop_alpha = beta_proportion_rng(a,b);\n",
    "    real pop_t = exp(mu_tmax);\n",
    "    real pop_ka = log(pop_alpha)/(pop_t*(pop_alpha-1));\n",
    "    real pop_ke = pop_alpha*pop_ka;\n",
    "    real pop_cl = exp(mu_cl);\n",
    "    \n",
    "    y0  = (1/ pop_cl) * (pop_ke * pop_ka) / (pop_ke - pop_ka) * (exp(-pop_ka * 12) -exp(-pop_ke * 12));\n",
    "}"
   ]
  },
  {
   "cell_type": "code",
   "execution_count": 4,
   "metadata": {},
   "outputs": [
    {
     "name": "stderr",
     "output_type": "stream",
     "text": [
      "INFO:cmdstanpy:compiling stan program, exe file: /var/folders/jg/l5d_63291cz8t8jgb4ttj1vc0000gn/T/tmpqsdg_erm/tmp79uuk8k8\n",
      "INFO:cmdstanpy:compiler options: stanc_options=None, cpp_options=None\n",
      "INFO:cmdstanpy:compiled model file: /Users/demetri/Documents/PhD Code/PKBayes2/model_dev\n"
     ]
    }
   ],
   "source": [
    "model = cmdstanpy.CmdStanModel(stan_file = 'model_dev.stan')"
   ]
  },
  {
   "cell_type": "code",
   "execution_count": 5,
   "metadata": {},
   "outputs": [],
   "source": [
    "df = pd.read_csv('data/combined_data.csv').query('study==\"old\"')\n",
    "\n",
    "model_data = dict(\n",
    "    N = df.shape[0],\n",
    "    n_subjects = df.subjectids.nunique(),\n",
    "    subjectids = df.subjectids.tolist(),\n",
    "    times = df.time.tolist(),\n",
    "    yobs = (df.yobs/1000).tolist(),\n",
    "    D = 2.5*np.ones(df.shape[0])\n",
    ")"
   ]
  },
  {
   "cell_type": "code",
   "execution_count": 6,
   "metadata": {},
   "outputs": [
    {
     "name": "stderr",
     "output_type": "stream",
     "text": [
      "INFO:cmdstanpy:compiling stan program, exe file: /var/folders/jg/l5d_63291cz8t8jgb4ttj1vc0000gn/T/tmpk_v8b3j0/tmp6k0hj4po\n",
      "INFO:cmdstanpy:compiler options: stanc_options=None, cpp_options=None\n",
      "INFO:cmdstanpy:compiled model file: /Users/demetri/Documents/PhD Code/PKBayes2/model_dev\n",
      "INFO:cmdstanpy:start chain 1\n",
      "INFO:cmdstanpy:start chain 2\n",
      "INFO:cmdstanpy:start chain 3\n",
      "INFO:cmdstanpy:start chain 4\n",
      "INFO:cmdstanpy:finish chain 1\n",
      "INFO:cmdstanpy:finish chain 4\n",
      "INFO:cmdstanpy:finish chain 3\n",
      "INFO:cmdstanpy:finish chain 2\n",
      "INFO:cmdstanpy:Processing csv files: /var/folders/jg/l5d_63291cz8t8jgb4ttj1vc0000gn/T/tmpcbsc1i4_/model_dev-202008132352-1-wec3n2xy.csv, /var/folders/jg/l5d_63291cz8t8jgb4ttj1vc0000gn/T/tmpcbsc1i4_/model_dev-202008132352-2-fxw5u0mi.csv, /var/folders/jg/l5d_63291cz8t8jgb4ttj1vc0000gn/T/tmpcbsc1i4_/model_dev-202008132352-3-ifwxs2qq.csv, /var/folders/jg/l5d_63291cz8t8jgb4ttj1vc0000gn/T/tmpcbsc1i4_/model_dev-202008132352-4-unc1vdmy.csv\n",
      "\n",
      "Checking sampler transitions treedepth.\n",
      "Treedepth satisfactory for all transitions.\n",
      "\n",
      "Checking sampler transitions for divergences.\n",
      "No divergent transitions found.\n",
      "\n",
      "Checking E-BFMI - sampler transitions HMC potential energy.\n",
      "E-BFMI satisfactory for all transitions.\n",
      "\n",
      "Effective sample size satisfactory.\n",
      "\n",
      "Split R-hat values satisfactory all parameters.\n",
      "\n",
      "Processing complete, no problems detected.\n"
     ]
    }
   ],
   "source": [
    "model = cmdstanpy.CmdStanModel(stan_file = 'model_dev.stan')\n",
    "fit = model.sample(data=model_data, chains=4, parallel_chains=4, show_progress=False)\n",
    "fit.diagnose();"
   ]
  },
  {
   "cell_type": "code",
   "execution_count": 7,
   "metadata": {},
   "outputs": [],
   "source": [
    "def summarize(parameters, fit, dist, **kwargs):\n",
    "    \n",
    "    hyperparams = {}\n",
    "    \n",
    "    for param in parameters:\n",
    "        data = fit.get_drawset([param]).values\n",
    "        hyperparams[param] = dist.fit(data, **kwargs)\n",
    "\n",
    "    return hyperparams"
   ]
  },
  {
   "cell_type": "code",
   "execution_count": 8,
   "metadata": {},
   "outputs": [
    {
     "data": {
      "text/plain": [
       "{'mu_cl': (0.6638766987500001, 0.054104883000317065),\n",
       " 'mu_tmax': (0.86623611075, 0.04932116474386512)}"
      ]
     },
     "execution_count": 8,
     "metadata": {},
     "output_type": "execute_result"
    }
   ],
   "source": [
    "summarize(['mu_cl','mu_tmax'], fit, norm)"
   ]
  },
  {
   "cell_type": "code",
   "execution_count": 9,
   "metadata": {},
   "outputs": [
    {
     "data": {
      "text/plain": [
       "{'s_t': (76.96415799995933, 0, 0.0032518343408646437),\n",
       " 's_cl': (115.57867742158247, 0, 0.0028044541582500663),\n",
       " 'sigma': (311.4019104574235, 0, 0.0005202652594905999)}"
      ]
     },
     "execution_count": 9,
     "metadata": {},
     "output_type": "execute_result"
    }
   ],
   "source": [
    "summarize(['s_t','s_cl','sigma'], fit, gamma, floc=0)"
   ]
  },
  {
   "cell_type": "code",
   "execution_count": 10,
   "metadata": {},
   "outputs": [
    {
     "data": {
      "text/plain": [
       "{'a': (52.16170384956131, 224.50511779279444, 0, 1),\n",
       " 'phi': (74.37119109286316, 58.96216353088302, 0, 1),\n",
       " 'kappa': (23.659901779192207, 25.436636760643086, 0, 1)}"
      ]
     },
     "execution_count": 10,
     "metadata": {},
     "output_type": "execute_result"
    }
   ],
   "source": [
    "summarize(['a','phi','kappa'], fit, beta, floc=0, fscale=1)"
   ]
  },
  {
   "cell_type": "code",
   "execution_count": 11,
   "metadata": {},
   "outputs": [
    {
     "data": {
      "application/vnd.jupyter.widget-view+json": {
       "model_id": "f1360e084d5e47b89ae0ff149c683cfe",
       "version_major": 2,
       "version_minor": 0
      },
      "text/plain": [
       "HBox(children=(FloatProgress(value=0.0, max=4000.0), HTML(value='')))"
      ]
     },
     "metadata": {},
     "output_type": "display_data"
    },
    {
     "name": "stdout",
     "output_type": "stream",
     "text": [
      "\n"
     ]
    }
   ],
   "source": [
    "draws = fit.get_drawset(['pop_cl','pop_ke','pop_ka']).values\n",
    "\n",
    "def ode(y, t, cl, ke, ka):\n",
    "    \n",
    "    f = lambda y,t: 0.5*2.5*ke*ka/cl*np.exp(-ka*t)\n",
    "    \n",
    "    s = -ke*y\n",
    "    \n",
    "    for j in np.arange(0,12*10,12):\n",
    "        s+=f(y, t-j)*np.heaviside(t-j, 0)\n",
    "        \n",
    "    return s\n",
    "\n",
    "\n",
    "t = np.arange(0,12*11,12)\n",
    "s = []\n",
    "if False:\n",
    "\n",
    "    for d in tqdm(draws):\n",
    "\n",
    "        s.append(odeint(ode, t=t, y0=0, args = tuple(d))[-1])\n",
    "\n"
   ]
  },
  {
   "cell_type": "code",
   "execution_count": 20,
   "metadata": {},
   "outputs": [
    {
     "data": {
      "text/plain": [
       "(0.04298059971660102, 0.007308405960936712)"
      ]
     },
     "execution_count": 20,
     "metadata": {},
     "output_type": "execute_result"
    },
    {
     "data": {
      "image/png": "[encoded data removed]",
      "text/plain": [
       "<Figure size 432x288 with 1 Axes>"
      ]
     },
     "metadata": {
      "needs_background": "light"
     },
     "output_type": "display_data"
    }
   ],
   "source": [
    "ss = [j[0] for j in s]\n",
    "\n",
    "plt.hist(ss, density = True)\n",
    "\n",
    "x = np.linspace(0.02, 0.07)\n",
    "\n",
    "p = norm.fit(ss)\n",
    "\n",
    "p"
   ]
  },
  {
   "cell_type": "markdown",
   "metadata": {},
   "source": [
    "# Summarize + Prior on Initial Condition"
   ]
  },
  {
   "cell_type": "code",
   "execution_count": null,
   "metadata": {},
   "outputs": [],
   "source": [
    "%%stan -f model_dev_2.stan\n",
    "\n",
    "data{\n",
    "  int N; //Total number of observations\n",
    "  int subjectids[N]; //Subject idendification number as an integer.  Mine go from 1 - 36\n",
    "  int n_subjects; //How many unique subjects do I have?\n",
    "  vector[N] times; //Times at which subjects were observed?  Length N\n",
    "  real yobs[N]; //Observed concentraitons\n",
    "  vector[N] D;\n",
    "}\n",
    "parameters{\n",
    "  //Mu is on the log scale\n",
    "  //Because x ~ lognormal -> log(x) ~ normal\n",
    "  //I model on the log scale and then take exp to give me a lognormal rv\n",
    "  real  mu_cl;\n",
    "  real<lower=0> s_cl;\n",
    "  vector[n_subjects] z_cl;\n",
    "  \n",
    "  real mu_tmax;\n",
    "  real<lower=0> s_t;\n",
    "  vector[n_subjects] z_t;\n",
    "  \n",
    "  vector<lower=0, upper=1>[n_subjects] alpha ;\n",
    "  \n",
    "  real<lower=0, upper=1> phi;\n",
    "  real<lower=0, upper=1> kappa;\n",
    "  vector<lower=0, upper=1>[n_subjects] delays;\n",
    "  \n",
    "  real<lower=0> sigma;\n",
    "    \n",
    "  real<lower=0, upper=1> a;\n",
    "  real<lower=0> b;\n",
    "    \n",
    "  real<lower=0> y0;\n",
    "    \n",
    "  \n",
    "}\n",
    "transformed parameters{\n",
    "  vector[n_subjects] Cl = exp(mu_cl + z_cl*s_cl);\n",
    "  vector[n_subjects] t = exp(mu_tmax + z_t*s_t);\n",
    "  vector[n_subjects] ka = log(alpha)./(t .* (alpha-1));\n",
    "  vector[n_subjects] ke = alpha .* ka;\n",
    "  //Since first non-zero observation is t = 0.5, we know delay is no larger than 0.5\n",
    "  //since delay is beta, if we multiply by 0.5 then the largest the delay can be is 0.5\n",
    "  vector[N] delayed_times = times - 0.5*delays[subjectids];\n",
    "  \n",
    "  //Vectorized concentration function\n",
    "  vector[N] C = (0.5*D ./ Cl[subjectids]) .* (ke[subjectids] .* ka[subjectids]) ./ (ke[subjectids] - ka[subjectids]) .* (exp(-ka[subjectids] .* delayed_times) -exp(-ke[subjectids] .* delayed_times));\n",
    "}\n",
    "model{\n",
    "  mu_tmax ~ normal(0.86, 0.05);\n",
    "  s_t ~ gamma(77.50, 310.02);\n",
    "  z_t ~ normal(0,1);\n",
    "  \n",
    "  mu_cl ~ normal(0.66, 0.05);\n",
    "  s_cl ~ gamma(120.33,373.34);\n",
    "  z_cl ~ normal(0,1);\n",
    "\n",
    "  a~beta(47.78,202.76);\n",
    "  b~student_t(3,0,2.5);\n",
    "  alpha ~ beta_proportion(a,b);\n",
    "  phi ~ beta(73.90,58.68);\n",
    "  kappa ~ beta(23.39,25.14);\n",
    "  delays ~ beta(phi/kappa, (1-phi)/kappa);\n",
    "  sigma ~ gamma(315.79, 1944.02);\n",
    "\n",
    "    \n",
    "  y0 ~ normal(0.042, 0.007);\n",
    "  yobs ~ lognormal(log(C), sigma);\n",
    "}\n"
   ]
  },
  {
   "cell_type": "code",
   "execution_count": null,
   "metadata": {},
   "outputs": [],
   "source": [
    "p"
   ]
  },
  {
   "cell_type": "code",
   "execution_count": null,
   "metadata": {},
   "outputs": [],
   "source": []
  }
 ],
 "metadata": {
  "kernelspec": {
   "display_name": "Python 3",
   "language": "python",
   "name": "python3"
  },
  "language_info": {
   "codemirror_mode": {
    "name": "ipython",
    "version": 3
   },
   "file_extension": ".py",
   "mimetype": "text/x-python",
   "name": "python",
   "nbconvert_exporter": "python",
   "pygments_lexer": "ipython3",
   "version": "3.8.5"
  }
 },
 "nbformat": 4,
 "nbformat_minor": 4
}
